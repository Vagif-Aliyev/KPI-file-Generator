{
 "cells": [
  {
   "cell_type": "code",
   "execution_count": 10,
   "id": "fccff6be",
   "metadata": {},
   "outputs": [],
   "source": [
    "# import necessary libraries\n",
    "\n",
    "import pandas as pd\n",
    "import numpy as np\n",
    "import os\n",
    "import datetime as dt\n",
    "import seaborn as sns\n",
    "import matplotlib.pyplot as plt\n",
    "import openpyxl"
   ]
  },
  {
   "cell_type": "code",
   "execution_count": 11,
   "id": "5af92fbd",
   "metadata": {
    "scrolled": true
   },
   "outputs": [],
   "source": [
    "# Convert status column's catigrical values from MV to PT (Productive Time) and from QMV to NPT(Non Productive Time)\n",
    "df_ops_code=pd.read_excel(r\"/Users/vagifaliyev/Desktop/KPI Project/DDRs/DDR_01.08.2023.xlsx\", sheet_name=\"Əməliyyatların Kodu\", usecols=[\"Kod\",\"Vaxt.1\"])\n",
    "df_ops_code=df_ops_code.rename(columns={\"Kod\":\"Ops Code\",\"Vaxt.1\":\"Status\"})\n",
    "df_ops_code['Status'].replace({\"MV\":\"PT\", \"QMV\":\"NPT\"}, inplace=True)\n",
    "pd.set_option('display.max_columns', None)\n",
    "df_ops=df_ops_code\n",
    "df_ops.drop('Status', axis=1, inplace=True)\n",
    "df_ops.set_index('Ops Code', inplace=True)"
   ]
  },
  {
   "cell_type": "code",
   "execution_count": 12,
   "id": "f83c9c86",
   "metadata": {},
   "outputs": [],
   "source": [
    "# Read the folders to observe inside\n",
    "files=os.listdir(r\"/Users/vagifaliyev/Desktop/KPI Project/DDRs/\")"
   ]
  },
  {
   "cell_type": "code",
   "execution_count": 22,
   "id": "0a734ea1",
   "metadata": {
    "scrolled": false
   },
   "outputs": [
    {
     "name": "stderr",
     "output_type": "stream",
     "text": [
      "/Users/vagifaliyev/anaconda3/lib/python3.11/site-packages/openpyxl/worksheet/_read_only.py:79: UserWarning: Data Validation extension is not supported and will be removed\n",
      "  for idx, row in parser.parse():\n",
      "/Users/vagifaliyev/anaconda3/lib/python3.11/site-packages/openpyxl/worksheet/_read_only.py:79: UserWarning: Data Validation extension is not supported and will be removed\n",
      "  for idx, row in parser.parse():\n",
      "/Users/vagifaliyev/anaconda3/lib/python3.11/site-packages/openpyxl/worksheet/_read_only.py:79: UserWarning: Data Validation extension is not supported and will be removed\n",
      "  for idx, row in parser.parse():\n",
      "/Users/vagifaliyev/anaconda3/lib/python3.11/site-packages/openpyxl/worksheet/_read_only.py:79: UserWarning: Data Validation extension is not supported and will be removed\n",
      "  for idx, row in parser.parse():\n",
      "/Users/vagifaliyev/anaconda3/lib/python3.11/site-packages/openpyxl/worksheet/_read_only.py:79: UserWarning: Data Validation extension is not supported and will be removed\n",
      "  for idx, row in parser.parse():\n",
      "/Users/vagifaliyev/anaconda3/lib/python3.11/site-packages/openpyxl/worksheet/_read_only.py:79: UserWarning: Data Validation extension is not supported and will be removed\n",
      "  for idx, row in parser.parse():\n",
      "/Users/vagifaliyev/anaconda3/lib/python3.11/site-packages/openpyxl/worksheet/_read_only.py:79: UserWarning: Data Validation extension is not supported and will be removed\n",
      "  for idx, row in parser.parse():\n",
      "/Users/vagifaliyev/anaconda3/lib/python3.11/site-packages/openpyxl/worksheet/_read_only.py:79: UserWarning: Data Validation extension is not supported and will be removed\n",
      "  for idx, row in parser.parse():\n",
      "/Users/vagifaliyev/anaconda3/lib/python3.11/site-packages/openpyxl/worksheet/_read_only.py:79: UserWarning: Data Validation extension is not supported and will be removed\n",
      "  for idx, row in parser.parse():\n",
      "/Users/vagifaliyev/anaconda3/lib/python3.11/site-packages/openpyxl/worksheet/_read_only.py:79: UserWarning: Data Validation extension is not supported and will be removed\n",
      "  for idx, row in parser.parse():\n",
      "/Users/vagifaliyev/anaconda3/lib/python3.11/site-packages/openpyxl/worksheet/_read_only.py:79: UserWarning: Data Validation extension is not supported and will be removed\n",
      "  for idx, row in parser.parse():\n",
      "/Users/vagifaliyev/anaconda3/lib/python3.11/site-packages/openpyxl/worksheet/_read_only.py:79: UserWarning: Data Validation extension is not supported and will be removed\n",
      "  for idx, row in parser.parse():\n",
      "/Users/vagifaliyev/anaconda3/lib/python3.11/site-packages/openpyxl/worksheet/_read_only.py:79: UserWarning: Data Validation extension is not supported and will be removed\n",
      "  for idx, row in parser.parse():\n",
      "/Users/vagifaliyev/anaconda3/lib/python3.11/site-packages/openpyxl/worksheet/_read_only.py:79: UserWarning: Data Validation extension is not supported and will be removed\n",
      "  for idx, row in parser.parse():\n",
      "/Users/vagifaliyev/anaconda3/lib/python3.11/site-packages/openpyxl/worksheet/_read_only.py:79: UserWarning: Data Validation extension is not supported and will be removed\n",
      "  for idx, row in parser.parse():\n",
      "/Users/vagifaliyev/anaconda3/lib/python3.11/site-packages/openpyxl/worksheet/_read_only.py:79: UserWarning: Data Validation extension is not supported and will be removed\n",
      "  for idx, row in parser.parse():\n",
      "/Users/vagifaliyev/anaconda3/lib/python3.11/site-packages/openpyxl/worksheet/_read_only.py:79: UserWarning: Data Validation extension is not supported and will be removed\n",
      "  for idx, row in parser.parse():\n",
      "/Users/vagifaliyev/anaconda3/lib/python3.11/site-packages/openpyxl/worksheet/_read_only.py:79: UserWarning: Data Validation extension is not supported and will be removed\n",
      "  for idx, row in parser.parse():\n",
      "/Users/vagifaliyev/anaconda3/lib/python3.11/site-packages/openpyxl/worksheet/_read_only.py:79: UserWarning: Data Validation extension is not supported and will be removed\n",
      "  for idx, row in parser.parse():\n",
      "/Users/vagifaliyev/anaconda3/lib/python3.11/site-packages/openpyxl/worksheet/_read_only.py:79: UserWarning: Data Validation extension is not supported and will be removed\n",
      "  for idx, row in parser.parse():\n"
     ]
    }
   ],
   "source": [
    "#Create empty lists for later use:\n",
    "ddr_list=[]\n",
    "time_list=[]\n",
    "all_ops=[]\n",
    "\n",
    "day_list=[]\n",
    "daily_drill=[]\n",
    "TD=[]\n",
    "\n",
    "# Set a loop for combining individual excel files to single KPI excel file.\n",
    "for file in sorted(files):\n",
    "    df1=pd.read_excel(r\"/Users/vagifaliyev/Desktop/KPI Project/DDRs/\"+file)\n",
    "    day=df1['Unnamed: 4'].iloc[4].strftime(\"%d %B %Y\")\n",
    "    d_drill=df1['Unnamed: 3'][8]-df1['Unnamed: 3'][7]\n",
    "    td=df1['Unnamed: 3'][8]\n",
    "    day_list.append(day)\n",
    "    daily_drill.append(d_drill)\n",
    "    TD.append(td)\n",
    "    \n",
    "    df=pd.read_excel(r\"/Users/vagifaliyev/Desktop/KPI Project/DDRs/\"+file,\n",
    "                     sheet_name=\"GM-DDR\",skiprows=47,usecols=[1,2,3,5,7,8])\n",
    "    df=df.dropna(axis=0,how='any')\n",
    "    df.rename(columns={\n",
    "        \"Unnamed: 2\": \"End\",\n",
    "        \"Vaxt\": \"Start\",\n",
    "        \"Əməliyyat kodu\":\"Ops Code\",\n",
    "        \"Unnamed: 7\": \"Status\",\n",
    "        \"Saat\": \"Time\",\n",
    "        \"Gündəlik məlumat\":\"Daily Operations\"\n",
    "    }, inplace=True)\n",
    "    \n",
    "    # Create daily activity column which joins operation in every excel file\n",
    "    joined_description=\"\"\n",
    "    daily_ops=[]\n",
    "    for description in df[\"Daily Operations\"]:\n",
    "        joined_description+='.'+description\n",
    "    daily_ops.append(joined_description)\n",
    "    df_daily_ops=pd.DataFrame(daily_ops)\n",
    "    all_ops.append(df_daily_ops) \n",
    "    \n",
    "#     Create dataframe of operation times for every operation code for each day\n",
    "    daily_grouped_hours=df.groupby(by=\"Ops Code\")[\"Time\"].sum()\n",
    "    df_grouped_hours=pd.DataFrame(daily_grouped_hours).T\n",
    "#     df_grouped_hours=df_grouped_hours.merge(df_ops_code, on=\"Ops Code\", how='left').T\n",
    "    time_list.append(df_grouped_hours)\n",
    " \n",
    "#     Create Dataframe of operations    \n",
    "df_all_ops=pd.concat(all_ops, axis=0,ignore_index=True)\n",
    "\n",
    "# Create Dataframe of time for each operation code for each day\n",
    "df_all_time=pd.concat(time_list, axis=0,ignore_index=True).fillna(0)\n",
    "merged=pd.merge(df_ops, df_all_time.T, left_index=True, right_index=True, how='left').fillna(0).T\n",
    "\n",
    "\n",
    "# Combine time and operation dataframes and export final KPI file.\n",
    "df_info=pd.DataFrame({'Days':day_list, 'Depth':TD, 'Daily drill':daily_drill})\n",
    "df_final=pd.concat([df_info, df_all_ops, merged], axis=1).rename(columns={0:\"Operation's Description\"})\n",
    "df_final.to_excel(r\"/Users/vagifaliyev/Desktop/Qalmaz_657_KPI.xlsx\", sheet_name=\"Operations\")\n"
   ]
  },
  {
   "cell_type": "code",
   "execution_count": 14,
   "id": "e7e6fccd",
   "metadata": {
    "scrolled": false
   },
   "outputs": [
    {
     "data": {
      "text/plain": [
       "Text(0, 0.5, 'Hour')"
      ]
     },
     "execution_count": 14,
     "metadata": {},
     "output_type": "execute_result"
    },
    {
     "data": {
      "image/png": "[encoded data removed]",
      "text/plain": [
       "<Figure size 800x400 with 1 Axes>"
      ]
     },
     "metadata": {},
     "output_type": "display_data"
    }
   ],
   "source": [
    "plt.figure(figsize=(8,4))\n",
    "fig=sns.barplot(x=df_all_time.keys(), y=[df_all_time[i].sum().round(2) for i in df_all_time], \n",
    "                palette=\"pastel\", alpha=0.7)\n",
    "fig.set_title(\"Total Time Spend for Each Operation\")\n",
    "fig.set_xlabel(\"Operation Codes\")\n",
    "fig.set_ylabel(\"Hour\")"
   ]
  },
  {
   "cell_type": "code",
   "execution_count": null,
   "id": "85f87f46",
   "metadata": {},
   "outputs": [],
   "source": []
  }
 ],
 "metadata": {
  "kernelspec": {
   "display_name": "Python 3 (ipykernel)",
   "language": "python",
   "name": "python3"
  },
  "language_info": {
   "codemirror_mode": {
    "name": "ipython",
    "version": 3
   },
   "file_extension": ".py",
   "mimetype": "text/x-python",
   "name": "python",
   "nbconvert_exporter": "python",
   "pygments_lexer": "ipython3",
   "version": "3.11.5"
  }
 },
 "nbformat": 4,
 "nbformat_minor": 5
}
