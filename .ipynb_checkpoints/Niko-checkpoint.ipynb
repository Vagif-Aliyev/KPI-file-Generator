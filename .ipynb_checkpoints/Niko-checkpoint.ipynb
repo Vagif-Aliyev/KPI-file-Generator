{
 "cells": [
  {
   "cell_type": "code",
   "execution_count": 179,
   "id": "775322f2",
   "metadata": {},
   "outputs": [
    {
     "name": "stdout",
     "output_type": "stream",
     "text": [
      "Total is 27754.966 AZN\n"
     ]
    }
   ],
   "source": [
    "import pandas as pd\n",
    "files=os.listdir(r\"/Users/vagifaliyev/Desktop/Test_folder\")\n",
    "total=0\n",
    "all_rows=[]\n",
    "file_name=[]\n",
    "for file in files:\n",
    "    df=pd.read_excel(r\"/Users/vagifaliyev/Desktop/Test_folder/\"+file, \n",
    "                 sheet_name='Service Invoice', skiprows=8, header=None, usecols=[5,6])\n",
    "    df.dropna(inplace=True)\n",
    "    \n",
    "    row_yekun=df.iloc[-1]\n",
    "    all_rows.append(row_yekun)\n",
    "    \n",
    "    total+=df.iloc[-1,1]\n",
    "    file_name.append(file)\n",
    "    \n",
    "\n",
    "file_names=pd.DataFrame(file_name).reset_index()\n",
    "yekuns=pd.DataFrame(all_rows).reset_index()\n",
    "sum_of_yekuns=pd.merge(file_names,yekuns,left_index=True, right_index=True)\n",
    "sum_of_yekuns[[0,6]].to_excel(r\"/Users/vagifaliyev/Desktop/Yekun_file.xlsx\", sheet_name='Yekun')\n",
    "print(f'Total is {round(total,3)} AZN')    "
   ]
  },
  {
   "cell_type": "code",
   "execution_count": null,
   "id": "8b843528",
   "metadata": {},
   "outputs": [],
   "source": []
  }
 ],
 "metadata": {
  "kernelspec": {
   "display_name": "Python 3 (ipykernel)",
   "language": "python",
   "name": "python3"
  },
  "language_info": {
   "codemirror_mode": {
    "name": "ipython",
    "version": 3
   },
   "file_extension": ".py",
   "mimetype": "text/x-python",
   "name": "python",
   "nbconvert_exporter": "python",
   "pygments_lexer": "ipython3",
   "version": "3.11.5"
  }
 },
 "nbformat": 4,
 "nbformat_minor": 5
}
